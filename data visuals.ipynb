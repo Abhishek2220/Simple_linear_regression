{
 "cells": [
  {
   "cell_type": "code",
   "execution_count": 3,
   "id": "53e14515",
   "metadata": {},
   "outputs": [],
   "source": [
    "import pandas as pd\n",
    "import numpy as np\n",
    "import seaborn as sns \n",
    "import matplotlib.pyplot as  plt"
   ]
  },
  {
   "cell_type": "code",
   "execution_count": 5,
   "id": "c1caaf4a",
   "metadata": {},
   "outputs": [],
   "source": [
    "train=pd.read_csv(r\"D:\\data science\\data in excel sheet\\train.csv\")"
   ]
  },
  {
   "cell_type": "code",
   "execution_count": 6,
   "id": "73826e07",
   "metadata": {},
   "outputs": [
    {
     "data": {
      "text/html": [
       "<div>\n",
       "<style scoped>\n",
       "    .dataframe tbody tr th:only-of-type {\n",
       "        vertical-align: middle;\n",
       "    }\n",
       "\n",
       "    .dataframe tbody tr th {\n",
       "        vertical-align: top;\n",
       "    }\n",
       "\n",
       "    .dataframe thead th {\n",
       "        text-align: right;\n",
       "    }\n",
       "</style>\n",
       "<table border=\"1\" class=\"dataframe\">\n",
       "  <thead>\n",
       "    <tr style=\"text-align: right;\">\n",
       "      <th></th>\n",
       "      <th>x</th>\n",
       "      <th>y</th>\n",
       "    </tr>\n",
       "  </thead>\n",
       "  <tbody>\n",
       "    <tr>\n",
       "      <th>0</th>\n",
       "      <td>24.0</td>\n",
       "      <td>21.549452</td>\n",
       "    </tr>\n",
       "    <tr>\n",
       "      <th>1</th>\n",
       "      <td>50.0</td>\n",
       "      <td>47.464463</td>\n",
       "    </tr>\n",
       "    <tr>\n",
       "      <th>2</th>\n",
       "      <td>15.0</td>\n",
       "      <td>17.218656</td>\n",
       "    </tr>\n",
       "    <tr>\n",
       "      <th>3</th>\n",
       "      <td>38.0</td>\n",
       "      <td>36.586398</td>\n",
       "    </tr>\n",
       "    <tr>\n",
       "      <th>4</th>\n",
       "      <td>87.0</td>\n",
       "      <td>87.288984</td>\n",
       "    </tr>\n",
       "  </tbody>\n",
       "</table>\n",
       "</div>"
      ],
      "text/plain": [
       "      x          y\n",
       "0  24.0  21.549452\n",
       "1  50.0  47.464463\n",
       "2  15.0  17.218656\n",
       "3  38.0  36.586398\n",
       "4  87.0  87.288984"
      ]
     },
     "execution_count": 6,
     "metadata": {},
     "output_type": "execute_result"
    }
   ],
   "source": [
    "train.head()"
   ]
  },
  {
   "cell_type": "code",
   "execution_count": 7,
   "id": "4ce3030b",
   "metadata": {},
   "outputs": [
    {
     "data": {
      "text/html": [
       "<div>\n",
       "<style scoped>\n",
       "    .dataframe tbody tr th:only-of-type {\n",
       "        vertical-align: middle;\n",
       "    }\n",
       "\n",
       "    .dataframe tbody tr th {\n",
       "        vertical-align: top;\n",
       "    }\n",
       "\n",
       "    .dataframe thead th {\n",
       "        text-align: right;\n",
       "    }\n",
       "</style>\n",
       "<table border=\"1\" class=\"dataframe\">\n",
       "  <thead>\n",
       "    <tr style=\"text-align: right;\">\n",
       "      <th></th>\n",
       "      <th>x</th>\n",
       "      <th>y</th>\n",
       "    </tr>\n",
       "  </thead>\n",
       "  <tbody>\n",
       "    <tr>\n",
       "      <th>695</th>\n",
       "      <td>58.0</td>\n",
       "      <td>58.595006</td>\n",
       "    </tr>\n",
       "    <tr>\n",
       "      <th>696</th>\n",
       "      <td>93.0</td>\n",
       "      <td>94.625094</td>\n",
       "    </tr>\n",
       "    <tr>\n",
       "      <th>697</th>\n",
       "      <td>82.0</td>\n",
       "      <td>88.603770</td>\n",
       "    </tr>\n",
       "    <tr>\n",
       "      <th>698</th>\n",
       "      <td>66.0</td>\n",
       "      <td>63.648685</td>\n",
       "    </tr>\n",
       "    <tr>\n",
       "      <th>699</th>\n",
       "      <td>97.0</td>\n",
       "      <td>94.975266</td>\n",
       "    </tr>\n",
       "  </tbody>\n",
       "</table>\n",
       "</div>"
      ],
      "text/plain": [
       "        x          y\n",
       "695  58.0  58.595006\n",
       "696  93.0  94.625094\n",
       "697  82.0  88.603770\n",
       "698  66.0  63.648685\n",
       "699  97.0  94.975266"
      ]
     },
     "execution_count": 7,
     "metadata": {},
     "output_type": "execute_result"
    }
   ],
   "source": [
    "train.tail()"
   ]
  },
  {
   "cell_type": "code",
   "execution_count": 8,
   "id": "54510d62",
   "metadata": {},
   "outputs": [
    {
     "name": "stdout",
     "output_type": "stream",
     "text": [
      "<class 'pandas.core.frame.DataFrame'>\n",
      "RangeIndex: 700 entries, 0 to 699\n",
      "Data columns (total 2 columns):\n",
      " #   Column  Non-Null Count  Dtype  \n",
      "---  ------  --------------  -----  \n",
      " 0   x       700 non-null    float64\n",
      " 1   y       699 non-null    float64\n",
      "dtypes: float64(2)\n",
      "memory usage: 11.1 KB\n"
     ]
    }
   ],
   "source": [
    "train.info()"
   ]
  },
  {
   "cell_type": "code",
   "execution_count": 9,
   "id": "f279f6ac",
   "metadata": {},
   "outputs": [
    {
     "data": {
      "text/html": [
       "<div>\n",
       "<style scoped>\n",
       "    .dataframe tbody tr th:only-of-type {\n",
       "        vertical-align: middle;\n",
       "    }\n",
       "\n",
       "    .dataframe tbody tr th {\n",
       "        vertical-align: top;\n",
       "    }\n",
       "\n",
       "    .dataframe thead th {\n",
       "        text-align: right;\n",
       "    }\n",
       "</style>\n",
       "<table border=\"1\" class=\"dataframe\">\n",
       "  <thead>\n",
       "    <tr style=\"text-align: right;\">\n",
       "      <th></th>\n",
       "      <th>x</th>\n",
       "      <th>y</th>\n",
       "    </tr>\n",
       "  </thead>\n",
       "  <tbody>\n",
       "    <tr>\n",
       "      <th>count</th>\n",
       "      <td>700.000000</td>\n",
       "      <td>699.000000</td>\n",
       "    </tr>\n",
       "    <tr>\n",
       "      <th>mean</th>\n",
       "      <td>54.985939</td>\n",
       "      <td>49.939869</td>\n",
       "    </tr>\n",
       "    <tr>\n",
       "      <th>std</th>\n",
       "      <td>134.681703</td>\n",
       "      <td>29.109217</td>\n",
       "    </tr>\n",
       "    <tr>\n",
       "      <th>min</th>\n",
       "      <td>0.000000</td>\n",
       "      <td>-3.839981</td>\n",
       "    </tr>\n",
       "    <tr>\n",
       "      <th>25%</th>\n",
       "      <td>25.000000</td>\n",
       "      <td>24.929968</td>\n",
       "    </tr>\n",
       "    <tr>\n",
       "      <th>50%</th>\n",
       "      <td>49.000000</td>\n",
       "      <td>48.973020</td>\n",
       "    </tr>\n",
       "    <tr>\n",
       "      <th>75%</th>\n",
       "      <td>75.000000</td>\n",
       "      <td>74.929911</td>\n",
       "    </tr>\n",
       "    <tr>\n",
       "      <th>max</th>\n",
       "      <td>3530.157369</td>\n",
       "      <td>108.871618</td>\n",
       "    </tr>\n",
       "  </tbody>\n",
       "</table>\n",
       "</div>"
      ],
      "text/plain": [
       "                 x           y\n",
       "count   700.000000  699.000000\n",
       "mean     54.985939   49.939869\n",
       "std     134.681703   29.109217\n",
       "min       0.000000   -3.839981\n",
       "25%      25.000000   24.929968\n",
       "50%      49.000000   48.973020\n",
       "75%      75.000000   74.929911\n",
       "max    3530.157369  108.871618"
      ]
     },
     "execution_count": 9,
     "metadata": {},
     "output_type": "execute_result"
    }
   ],
   "source": [
    "train.describe()"
   ]
  },
  {
   "cell_type": "code",
   "execution_count": 10,
   "id": "c9c35804",
   "metadata": {},
   "outputs": [],
   "source": [
    "#check null values"
   ]
  },
  {
   "cell_type": "code",
   "execution_count": 11,
   "id": "b3a10480",
   "metadata": {},
   "outputs": [
    {
     "data": {
      "text/plain": [
       "x    700\n",
       "y    700\n",
       "dtype: int64"
      ]
     },
     "execution_count": 11,
     "metadata": {},
     "output_type": "execute_result"
    }
   ],
   "source": [
    "train.isnull().count()\n"
   ]
  },
  {
   "cell_type": "code",
   "execution_count": 12,
   "id": "857519d8",
   "metadata": {},
   "outputs": [
    {
     "data": {
      "text/plain": [
       "700"
      ]
     },
     "execution_count": 12,
     "metadata": {},
     "output_type": "execute_result"
    }
   ],
   "source": [
    "train['x'].isnull().count()"
   ]
  },
  {
   "cell_type": "code",
   "execution_count": 13,
   "id": "ce847fa7",
   "metadata": {},
   "outputs": [
    {
     "data": {
      "text/plain": [
       "700"
      ]
     },
     "execution_count": 13,
     "metadata": {},
     "output_type": "execute_result"
    }
   ],
   "source": [
    "train['y'].isnull().count()"
   ]
  },
  {
   "cell_type": "code",
   "execution_count": 14,
   "id": "2358498e",
   "metadata": {},
   "outputs": [],
   "source": [
    "#EDA plotting"
   ]
  },
  {
   "cell_type": "code",
   "execution_count": 15,
   "id": "7fcc11c8",
   "metadata": {},
   "outputs": [
    {
     "name": "stderr",
     "output_type": "stream",
     "text": [
      "C:\\Users\\USER\\AppData\\Local\\Temp\\ipykernel_10288\\3286342336.py:1: RuntimeWarning: Second argument 'y' is ambiguous: could be a format string but is in 'data'; using as data.  If it was intended as data, set the format string to an empty string to suppress this warning.  If it was intended as a format string, explicitly pass the x-values as well.  Alternatively, rename the entry in 'data'.\n",
      "  plt.plot(\"x\",\"y\",data=train)\n"
     ]
    },
    {
     "data": {
      "text/plain": [
       "[<matplotlib.lines.Line2D at 0x2578ee91af0>]"
      ]
     },
     "execution_count": 15,
     "metadata": {},
     "output_type": "execute_result"
    },
    {
     "data": {
      "image/png": "[encoded data removed]",
      "text/plain": [
       "<Figure size 432x288 with 1 Axes>"
      ]
     },
     "metadata": {
      "needs_background": "light"
     },
     "output_type": "display_data"
    }
   ],
   "source": [
    "plt.plot(\"x\",\"y\",data=train)"
   ]
  },
  {
   "cell_type": "code",
   "execution_count": 16,
   "id": "2e8ab273",
   "metadata": {},
   "outputs": [
    {
     "data": {
      "text/plain": [
       "<matplotlib.collections.PathCollection at 0x2578f44f7c0>"
      ]
     },
     "execution_count": 16,
     "metadata": {},
     "output_type": "execute_result"
    },
    {
     "data": {
      "image/png": "[encoded data removed]",
      "text/plain": [
       "<Figure size 432x288 with 1 Axes>"
      ]
     },
     "metadata": {
      "needs_background": "light"
     },
     "output_type": "display_data"
    }
   ],
   "source": [
    "plt.scatter(\"x\",\"y\",data=train)"
   ]
  },
  {
   "cell_type": "code",
   "execution_count": 17,
   "id": "ba4419cb",
   "metadata": {},
   "outputs": [
    {
     "data": {
      "text/plain": [
       "<BarContainer object of 700 artists>"
      ]
     },
     "execution_count": 17,
     "metadata": {},
     "output_type": "execute_result"
    },
    {
     "data": {
      "image/png": "[encoded data removed]",
      "text/plain": [
       "<Figure size 432x288 with 1 Axes>"
      ]
     },
     "metadata": {
      "needs_background": "light"
     },
     "output_type": "display_data"
    }
   ],
   "source": [
    "plt.bar(\"x\",\"y\",data=train) #find outliers"
   ]
  },
  {
   "cell_type": "code",
   "execution_count": 18,
   "id": "65a388ae",
   "metadata": {},
   "outputs": [],
   "source": [
    "train=train.dropna()\n"
   ]
  },
  {
   "cell_type": "code",
   "execution_count": 19,
   "id": "128b9ea8",
   "metadata": {},
   "outputs": [
    {
     "data": {
      "text/plain": [
       "(699, 2)"
      ]
     },
     "execution_count": 19,
     "metadata": {},
     "output_type": "execute_result"
    }
   ],
   "source": [
    "train.shape"
   ]
  },
  {
   "cell_type": "code",
   "execution_count": 20,
   "id": "3ffa1885",
   "metadata": {},
   "outputs": [
    {
     "data": {
      "text/plain": [
       "{'whiskers': [<matplotlib.lines.Line2D at 0x2578fae8fd0>,\n",
       "  <matplotlib.lines.Line2D at 0x2578faf92e0>],\n",
       " 'caps': [<matplotlib.lines.Line2D at 0x2578faf95b0>,\n",
       "  <matplotlib.lines.Line2D at 0x2578faf9880>],\n",
       " 'boxes': [<matplotlib.lines.Line2D at 0x2578fae8d00>],\n",
       " 'medians': [<matplotlib.lines.Line2D at 0x2578faf9b50>],\n",
       " 'fliers': [<matplotlib.lines.Line2D at 0x2578faf9e20>],\n",
       " 'means': []}"
      ]
     },
     "execution_count": 20,
     "metadata": {},
     "output_type": "execute_result"
    },
    {
     "data": {
      "image/png": "[encoded data removed]",
      "text/plain": [
       "<Figure size 432x288 with 1 Axes>"
      ]
     },
     "metadata": {
      "needs_background": "light"
     },
     "output_type": "display_data"
    }
   ],
   "source": [
    "plt.boxplot(train['x'])"
   ]
  },
  {
   "cell_type": "code",
   "execution_count": 21,
   "id": "edc9dd51",
   "metadata": {},
   "outputs": [
    {
     "data": {
      "text/plain": [
       "{'whiskers': [<matplotlib.lines.Line2D at 0x25790b32160>,\n",
       "  <matplotlib.lines.Line2D at 0x25790b32430>],\n",
       " 'caps': [<matplotlib.lines.Line2D at 0x25790b32700>,\n",
       "  <matplotlib.lines.Line2D at 0x25790b329d0>],\n",
       " 'boxes': [<matplotlib.lines.Line2D at 0x2578fb44c70>],\n",
       " 'medians': [<matplotlib.lines.Line2D at 0x25790b32ca0>],\n",
       " 'fliers': [<matplotlib.lines.Line2D at 0x25790b32fa0>],\n",
       " 'means': []}"
      ]
     },
     "execution_count": 21,
     "metadata": {},
     "output_type": "execute_result"
    },
    {
     "data": {
      "image/png": "[encoded data removed]",
      "text/plain": [
       "<Figure size 432x288 with 1 Axes>"
      ]
     },
     "metadata": {
      "needs_background": "light"
     },
     "output_type": "display_data"
    }
   ],
   "source": [
    "plt.boxplot(train['y'])"
   ]
  },
  {
   "cell_type": "code",
   "execution_count": 22,
   "id": "dc5af115",
   "metadata": {},
   "outputs": [
    {
     "data": {
      "text/plain": [
       "<matplotlib.collections.PathCollection at 0x25790b71b80>"
      ]
     },
     "execution_count": 22,
     "metadata": {},
     "output_type": "execute_result"
    },
    {
     "data": {
      "image/png": "[encoded data removed]",
      "text/plain": [
       "<Figure size 432x288 with 1 Axes>"
      ]
     },
     "metadata": {
      "needs_background": "light"
     },
     "output_type": "display_data"
    }
   ],
   "source": [
    "plt.scatter( \"x\",\"y\",data=train)"
   ]
  },
  {
   "cell_type": "code",
   "execution_count": 23,
   "id": "d0db9b3a",
   "metadata": {},
   "outputs": [],
   "source": [
    "#model accuracy is  100%"
   ]
  },
  {
   "cell_type": "code",
   "execution_count": 24,
   "id": "4c2a606c",
   "metadata": {},
   "outputs": [],
   "source": [
    "test=pd.read_csv(r\"D:\\data science\\data in excel sheet\\test (1).csv\")"
   ]
  },
  {
   "cell_type": "code",
   "execution_count": 25,
   "id": "b30f7ace",
   "metadata": {},
   "outputs": [
    {
     "data": {
      "text/html": [
       "<div>\n",
       "<style scoped>\n",
       "    .dataframe tbody tr th:only-of-type {\n",
       "        vertical-align: middle;\n",
       "    }\n",
       "\n",
       "    .dataframe tbody tr th {\n",
       "        vertical-align: top;\n",
       "    }\n",
       "\n",
       "    .dataframe thead th {\n",
       "        text-align: right;\n",
       "    }\n",
       "</style>\n",
       "<table border=\"1\" class=\"dataframe\">\n",
       "  <thead>\n",
       "    <tr style=\"text-align: right;\">\n",
       "      <th></th>\n",
       "      <th>x</th>\n",
       "      <th>y</th>\n",
       "    </tr>\n",
       "  </thead>\n",
       "  <tbody>\n",
       "    <tr>\n",
       "      <th>0</th>\n",
       "      <td>77</td>\n",
       "      <td>79.775152</td>\n",
       "    </tr>\n",
       "    <tr>\n",
       "      <th>1</th>\n",
       "      <td>21</td>\n",
       "      <td>23.177279</td>\n",
       "    </tr>\n",
       "    <tr>\n",
       "      <th>2</th>\n",
       "      <td>22</td>\n",
       "      <td>25.609262</td>\n",
       "    </tr>\n",
       "    <tr>\n",
       "      <th>3</th>\n",
       "      <td>20</td>\n",
       "      <td>17.857388</td>\n",
       "    </tr>\n",
       "    <tr>\n",
       "      <th>4</th>\n",
       "      <td>36</td>\n",
       "      <td>41.849864</td>\n",
       "    </tr>\n",
       "  </tbody>\n",
       "</table>\n",
       "</div>"
      ],
      "text/plain": [
       "    x          y\n",
       "0  77  79.775152\n",
       "1  21  23.177279\n",
       "2  22  25.609262\n",
       "3  20  17.857388\n",
       "4  36  41.849864"
      ]
     },
     "execution_count": 25,
     "metadata": {},
     "output_type": "execute_result"
    }
   ],
   "source": [
    "test.head()"
   ]
  },
  {
   "cell_type": "code",
   "execution_count": 26,
   "id": "17c63605",
   "metadata": {},
   "outputs": [
    {
     "data": {
      "text/plain": [
       "<matplotlib.collections.PathCollection at 0x25790bd13d0>"
      ]
     },
     "execution_count": 26,
     "metadata": {},
     "output_type": "execute_result"
    },
    {
     "data": {
      "image/png": "[encoded data removed]",
      "text/plain": [
       "<Figure size 432x288 with 1 Axes>"
      ]
     },
     "metadata": {
      "needs_background": "light"
     },
     "output_type": "display_data"
    }
   ],
   "source": [
    "plt.scatter(\"x\",\"y\",data=test)"
   ]
  },
  {
   "cell_type": "code",
   "execution_count": 27,
   "id": "c0712746",
   "metadata": {},
   "outputs": [],
   "source": [
    "#model preparation\n",
    "#1.simple linear regression"
   ]
  },
  {
   "cell_type": "code",
   "execution_count": 28,
   "id": "9a96264d",
   "metadata": {},
   "outputs": [],
   "source": [
    "from sklearn import linear_model"
   ]
  },
  {
   "cell_type": "code",
   "execution_count": 1,
   "id": "eef8f639",
   "metadata": {},
   "outputs": [
    {
     "ename": "NameError",
     "evalue": "name 'linear_model' is not defined",
     "output_type": "error",
     "traceback": [
      "\u001b[1;31m---------------------------------------------------------------------------\u001b[0m",
      "\u001b[1;31mNameError\u001b[0m                                 Traceback (most recent call last)",
      "Input \u001b[1;32mIn [1]\u001b[0m, in \u001b[0;36m<cell line: 1>\u001b[1;34m()\u001b[0m\n\u001b[1;32m----> 1\u001b[0m slr\u001b[38;5;241m=\u001b[39m\u001b[43mlinear_model\u001b[49m\u001b[38;5;241m.\u001b[39mLinearRegression()\n",
      "\u001b[1;31mNameError\u001b[0m: name 'linear_model' is not defined"
     ]
    }
   ],
   "source": [
    "slr=linear_model.LinearRegression()"
   ]
  },
  {
   "cell_type": "code",
   "execution_count": 30,
   "id": "fe781e68",
   "metadata": {},
   "outputs": [],
   "source": [
    "x_train=np.array(train.iloc[:, :-1].values)\n",
    "y_train=np.array(train.iloc[:, :1].values)\n",
    "x_test=np.array(test.iloc[:, :-1].values)\n",
    "y_test=np.array(test.iloc[:, :1].values)"
   ]
  },
  {
   "cell_type": "code",
   "execution_count": 31,
   "id": "422f1be5",
   "metadata": {},
   "outputs": [
    {
     "data": {
      "text/plain": [
       "LinearRegression()"
      ]
     },
     "execution_count": 31,
     "metadata": {},
     "output_type": "execute_result"
    }
   ],
   "source": [
    "slr.fit(x_train,y_train)"
   ]
  },
  {
   "cell_type": "code",
   "execution_count": 32,
   "id": "7995681d",
   "metadata": {},
   "outputs": [],
   "source": [
    "#y=mx+c\n",
    "#_coeff (Coefficient/slope)\n",
    "#_intercept (bias/intercept)\n"
   ]
  },
  {
   "cell_type": "code",
   "execution_count": 33,
   "id": "baea8378",
   "metadata": {},
   "outputs": [
    {
     "data": {
      "text/plain": [
       "array([[1.]])"
      ]
     },
     "execution_count": 33,
     "metadata": {},
     "output_type": "execute_result"
    }
   ],
   "source": [
    "slr.coef_"
   ]
  },
  {
   "cell_type": "code",
   "execution_count": 34,
   "id": "f0ad4a1f",
   "metadata": {},
   "outputs": [
    {
     "data": {
      "text/plain": [
       "array([-2.13162821e-14])"
      ]
     },
     "execution_count": 34,
     "metadata": {},
     "output_type": "execute_result"
    }
   ],
   "source": [
    "slr.intercept_"
   ]
  },
  {
   "cell_type": "code",
   "execution_count": 35,
   "id": "8a63e60b",
   "metadata": {},
   "outputs": [],
   "source": [
    "#y=1.000* x -2.131628"
   ]
  },
  {
   "cell_type": "code",
   "execution_count": 36,
   "id": "8a3264fb",
   "metadata": {},
   "outputs": [],
   "source": [
    "y_pred=slr.predict(x_test)"
   ]
  },
  {
   "cell_type": "code",
   "execution_count": 37,
   "id": "d11414a1",
   "metadata": {},
   "outputs": [
    {
     "data": {
      "text/plain": [
       "array([[ 7.70000000e+01],\n",
       "       [ 2.10000000e+01],\n",
       "       [ 2.20000000e+01],\n",
       "       [ 2.00000000e+01],\n",
       "       [ 3.60000000e+01],\n",
       "       [ 1.50000000e+01],\n",
       "       [ 6.20000000e+01],\n",
       "       [ 9.50000000e+01],\n",
       "       [ 2.00000000e+01],\n",
       "       [ 5.00000000e+00],\n",
       "       [ 4.00000000e+00],\n",
       "       [ 1.90000000e+01],\n",
       "       [ 9.60000000e+01],\n",
       "       [ 6.20000000e+01],\n",
       "       [ 3.60000000e+01],\n",
       "       [ 1.50000000e+01],\n",
       "       [ 6.50000000e+01],\n",
       "       [ 1.40000000e+01],\n",
       "       [ 8.70000000e+01],\n",
       "       [ 6.90000000e+01],\n",
       "       [ 8.90000000e+01],\n",
       "       [ 5.10000000e+01],\n",
       "       [ 8.90000000e+01],\n",
       "       [ 2.70000000e+01],\n",
       "       [ 9.70000000e+01],\n",
       "       [ 5.80000000e+01],\n",
       "       [ 7.90000000e+01],\n",
       "       [ 2.10000000e+01],\n",
       "       [ 9.30000000e+01],\n",
       "       [ 2.70000000e+01],\n",
       "       [ 9.90000000e+01],\n",
       "       [ 3.10000000e+01],\n",
       "       [ 3.30000000e+01],\n",
       "       [ 8.00000000e+01],\n",
       "       [ 2.80000000e+01],\n",
       "       [ 4.70000000e+01],\n",
       "       [ 5.30000000e+01],\n",
       "       [ 6.90000000e+01],\n",
       "       [ 2.80000000e+01],\n",
       "       [ 3.30000000e+01],\n",
       "       [ 9.10000000e+01],\n",
       "       [ 7.10000000e+01],\n",
       "       [ 5.00000000e+01],\n",
       "       [ 7.60000000e+01],\n",
       "       [ 4.00000000e+00],\n",
       "       [ 3.70000000e+01],\n",
       "       [ 7.00000000e+01],\n",
       "       [ 6.80000000e+01],\n",
       "       [ 4.00000000e+01],\n",
       "       [ 3.50000000e+01],\n",
       "       [ 9.40000000e+01],\n",
       "       [ 8.80000000e+01],\n",
       "       [ 5.20000000e+01],\n",
       "       [ 3.10000000e+01],\n",
       "       [ 5.90000000e+01],\n",
       "       [-2.13162821e-14],\n",
       "       [ 3.90000000e+01],\n",
       "       [ 6.40000000e+01],\n",
       "       [ 6.90000000e+01],\n",
       "       [ 5.70000000e+01],\n",
       "       [ 1.30000000e+01],\n",
       "       [ 7.20000000e+01],\n",
       "       [ 7.60000000e+01],\n",
       "       [ 6.10000000e+01],\n",
       "       [ 8.20000000e+01],\n",
       "       [ 1.80000000e+01],\n",
       "       [ 4.10000000e+01],\n",
       "       [ 5.00000000e+01],\n",
       "       [ 5.50000000e+01],\n",
       "       [ 1.30000000e+01],\n",
       "       [ 4.60000000e+01],\n",
       "       [ 1.30000000e+01],\n",
       "       [ 7.90000000e+01],\n",
       "       [ 5.30000000e+01],\n",
       "       [ 1.50000000e+01],\n",
       "       [ 2.80000000e+01],\n",
       "       [ 8.10000000e+01],\n",
       "       [ 6.90000000e+01],\n",
       "       [ 5.20000000e+01],\n",
       "       [ 8.40000000e+01],\n",
       "       [ 6.80000000e+01],\n",
       "       [ 2.70000000e+01],\n",
       "       [ 5.60000000e+01],\n",
       "       [ 4.80000000e+01],\n",
       "       [ 4.00000000e+01],\n",
       "       [ 3.90000000e+01],\n",
       "       [ 8.20000000e+01],\n",
       "       [ 1.00000000e+02],\n",
       "       [ 5.90000000e+01],\n",
       "       [ 4.30000000e+01],\n",
       "       [ 6.70000000e+01],\n",
       "       [ 3.80000000e+01],\n",
       "       [ 6.30000000e+01],\n",
       "       [ 9.10000000e+01],\n",
       "       [ 6.00000000e+01],\n",
       "       [ 1.40000000e+01],\n",
       "       [ 2.10000000e+01],\n",
       "       [ 8.70000000e+01],\n",
       "       [ 7.30000000e+01],\n",
       "       [ 3.20000000e+01],\n",
       "       [ 2.00000000e+00],\n",
       "       [ 8.20000000e+01],\n",
       "       [ 1.90000000e+01],\n",
       "       [ 7.40000000e+01],\n",
       "       [ 4.20000000e+01],\n",
       "       [ 1.20000000e+01],\n",
       "       [ 1.00000000e+00],\n",
       "       [ 9.00000000e+01],\n",
       "       [ 8.90000000e+01],\n",
       "       [-2.13162821e-14],\n",
       "       [ 4.10000000e+01],\n",
       "       [ 1.60000000e+01],\n",
       "       [ 9.40000000e+01],\n",
       "       [ 9.70000000e+01],\n",
       "       [ 6.60000000e+01],\n",
       "       [ 2.40000000e+01],\n",
       "       [ 1.70000000e+01],\n",
       "       [ 9.00000000e+01],\n",
       "       [ 1.30000000e+01],\n",
       "       [-2.13162821e-14],\n",
       "       [ 6.40000000e+01],\n",
       "       [ 9.60000000e+01],\n",
       "       [ 9.80000000e+01],\n",
       "       [ 1.20000000e+01],\n",
       "       [ 4.10000000e+01],\n",
       "       [ 4.70000000e+01],\n",
       "       [ 7.80000000e+01],\n",
       "       [ 2.00000000e+01],\n",
       "       [ 8.90000000e+01],\n",
       "       [ 2.90000000e+01],\n",
       "       [ 6.40000000e+01],\n",
       "       [ 7.50000000e+01],\n",
       "       [ 1.20000000e+01],\n",
       "       [ 2.50000000e+01],\n",
       "       [ 2.80000000e+01],\n",
       "       [ 3.00000000e+01],\n",
       "       [ 6.50000000e+01],\n",
       "       [ 5.90000000e+01],\n",
       "       [ 6.40000000e+01],\n",
       "       [ 5.30000000e+01],\n",
       "       [ 7.10000000e+01],\n",
       "       [ 9.70000000e+01],\n",
       "       [ 7.30000000e+01],\n",
       "       [ 9.00000000e+00],\n",
       "       [ 1.20000000e+01],\n",
       "       [ 6.30000000e+01],\n",
       "       [ 9.90000000e+01],\n",
       "       [ 6.00000000e+01],\n",
       "       [ 3.50000000e+01],\n",
       "       [ 2.00000000e+00],\n",
       "       [ 6.00000000e+01],\n",
       "       [ 3.20000000e+01],\n",
       "       [ 9.40000000e+01],\n",
       "       [ 8.40000000e+01],\n",
       "       [ 6.30000000e+01],\n",
       "       [ 2.20000000e+01],\n",
       "       [ 8.10000000e+01],\n",
       "       [ 9.30000000e+01],\n",
       "       [ 3.30000000e+01],\n",
       "       [ 7.00000000e+00],\n",
       "       [ 4.20000000e+01],\n",
       "       [ 4.60000000e+01],\n",
       "       [ 5.40000000e+01],\n",
       "       [ 1.60000000e+01],\n",
       "       [ 4.90000000e+01],\n",
       "       [ 4.30000000e+01],\n",
       "       [ 9.50000000e+01],\n",
       "       [ 6.60000000e+01],\n",
       "       [ 2.10000000e+01],\n",
       "       [ 3.50000000e+01],\n",
       "       [ 8.00000000e+01],\n",
       "       [ 3.70000000e+01],\n",
       "       [ 5.40000000e+01],\n",
       "       [ 5.60000000e+01],\n",
       "       [ 1.00000000e+00],\n",
       "       [ 3.20000000e+01],\n",
       "       [ 5.80000000e+01],\n",
       "       [ 3.20000000e+01],\n",
       "       [ 4.60000000e+01],\n",
       "       [ 7.20000000e+01],\n",
       "       [ 1.70000000e+01],\n",
       "       [ 9.70000000e+01],\n",
       "       [ 9.30000000e+01],\n",
       "       [ 9.10000000e+01],\n",
       "       [ 3.70000000e+01],\n",
       "       [ 4.00000000e+00],\n",
       "       [ 5.40000000e+01],\n",
       "       [ 5.10000000e+01],\n",
       "       [ 2.70000000e+01],\n",
       "       [ 4.60000000e+01],\n",
       "       [ 9.20000000e+01],\n",
       "       [ 7.30000000e+01],\n",
       "       [ 7.70000000e+01],\n",
       "       [ 9.10000000e+01],\n",
       "       [ 6.10000000e+01],\n",
       "       [ 9.90000000e+01],\n",
       "       [ 4.00000000e+00],\n",
       "       [ 7.20000000e+01],\n",
       "       [ 1.90000000e+01],\n",
       "       [ 5.70000000e+01],\n",
       "       [ 7.80000000e+01],\n",
       "       [ 2.60000000e+01],\n",
       "       [ 7.40000000e+01],\n",
       "       [ 9.00000000e+01],\n",
       "       [ 6.60000000e+01],\n",
       "       [ 1.30000000e+01],\n",
       "       [ 4.00000000e+01],\n",
       "       [ 7.70000000e+01],\n",
       "       [ 6.70000000e+01],\n",
       "       [ 7.50000000e+01],\n",
       "       [ 2.30000000e+01],\n",
       "       [ 4.50000000e+01],\n",
       "       [ 5.90000000e+01],\n",
       "       [ 4.40000000e+01],\n",
       "       [ 2.30000000e+01],\n",
       "       [ 5.50000000e+01],\n",
       "       [ 5.50000000e+01],\n",
       "       [ 9.50000000e+01],\n",
       "       [ 1.20000000e+01],\n",
       "       [ 4.00000000e+00],\n",
       "       [ 7.00000000e+00],\n",
       "       [ 1.00000000e+02],\n",
       "       [ 4.80000000e+01],\n",
       "       [ 4.20000000e+01],\n",
       "       [ 9.60000000e+01],\n",
       "       [ 3.90000000e+01],\n",
       "       [ 1.00000000e+02],\n",
       "       [ 8.70000000e+01],\n",
       "       [ 1.40000000e+01],\n",
       "       [ 1.40000000e+01],\n",
       "       [ 3.70000000e+01],\n",
       "       [ 5.00000000e+00],\n",
       "       [ 8.80000000e+01],\n",
       "       [ 9.10000000e+01],\n",
       "       [ 6.50000000e+01],\n",
       "       [ 7.40000000e+01],\n",
       "       [ 5.60000000e+01],\n",
       "       [ 1.60000000e+01],\n",
       "       [ 5.00000000e+00],\n",
       "       [ 2.80000000e+01],\n",
       "       [ 9.20000000e+01],\n",
       "       [ 4.60000000e+01],\n",
       "       [ 5.40000000e+01],\n",
       "       [ 3.90000000e+01],\n",
       "       [ 4.40000000e+01],\n",
       "       [ 3.10000000e+01],\n",
       "       [ 6.80000000e+01],\n",
       "       [ 8.60000000e+01],\n",
       "       [ 9.00000000e+01],\n",
       "       [ 3.80000000e+01],\n",
       "       [ 2.10000000e+01],\n",
       "       [ 9.50000000e+01],\n",
       "       [ 5.60000000e+01],\n",
       "       [ 6.00000000e+01],\n",
       "       [ 6.50000000e+01],\n",
       "       [ 7.80000000e+01],\n",
       "       [ 8.90000000e+01],\n",
       "       [ 6.00000000e+00],\n",
       "       [ 6.70000000e+01],\n",
       "       [ 3.60000000e+01],\n",
       "       [ 1.60000000e+01],\n",
       "       [ 1.00000000e+02],\n",
       "       [ 4.50000000e+01],\n",
       "       [ 7.30000000e+01],\n",
       "       [ 5.70000000e+01],\n",
       "       [ 2.00000000e+01],\n",
       "       [ 7.60000000e+01],\n",
       "       [ 3.40000000e+01],\n",
       "       [ 5.50000000e+01],\n",
       "       [ 7.20000000e+01],\n",
       "       [ 5.50000000e+01],\n",
       "       [ 8.00000000e+00],\n",
       "       [ 5.60000000e+01],\n",
       "       [ 7.20000000e+01],\n",
       "       [ 5.80000000e+01],\n",
       "       [ 6.00000000e+00],\n",
       "       [ 9.60000000e+01],\n",
       "       [ 2.30000000e+01],\n",
       "       [ 5.80000000e+01],\n",
       "       [ 2.30000000e+01],\n",
       "       [ 1.90000000e+01],\n",
       "       [ 2.50000000e+01],\n",
       "       [ 6.40000000e+01],\n",
       "       [ 2.10000000e+01],\n",
       "       [ 5.90000000e+01],\n",
       "       [ 1.90000000e+01],\n",
       "       [ 1.60000000e+01],\n",
       "       [ 4.20000000e+01],\n",
       "       [ 4.30000000e+01],\n",
       "       [ 6.10000000e+01],\n",
       "       [ 9.20000000e+01],\n",
       "       [ 1.10000000e+01],\n",
       "       [ 4.10000000e+01],\n",
       "       [ 1.00000000e+00],\n",
       "       [ 8.00000000e+00],\n",
       "       [ 7.10000000e+01],\n",
       "       [ 4.60000000e+01],\n",
       "       [ 5.50000000e+01],\n",
       "       [ 6.20000000e+01],\n",
       "       [ 4.70000000e+01]])"
      ]
     },
     "execution_count": 37,
     "metadata": {},
     "output_type": "execute_result"
    }
   ],
   "source": [
    "y_pred"
   ]
  },
  {
   "cell_type": "code",
   "execution_count": 38,
   "id": "d299b223",
   "metadata": {},
   "outputs": [],
   "source": [
    "accuracy=slr.score(x_test,y_test)"
   ]
  },
  {
   "cell_type": "code",
   "execution_count": 39,
   "id": "4addf5b6",
   "metadata": {},
   "outputs": [
    {
     "name": "stdout",
     "output_type": "stream",
     "text": [
      "1.0\n"
     ]
    }
   ],
   "source": [
    "print(accuracy)"
   ]
  },
  {
   "cell_type": "code",
   "execution_count": 40,
   "id": "88a5d58f",
   "metadata": {},
   "outputs": [
    {
     "data": {
      "image/png": "[encoded data removed]",
      "text/plain": [
       "<Figure size 432x288 with 1 Axes>"
      ]
     },
     "metadata": {
      "needs_background": "light"
     },
     "output_type": "display_data"
    }
   ],
   "source": [
    "plt.plot(x_test,y_pred,  color='Red')\n",
    "plt.show()"
   ]
  },
  {
   "cell_type": "code",
   "execution_count": 43,
   "id": "c8a18ae8",
   "metadata": {},
   "outputs": [
    {
     "data": {
      "image/png": "[encoded data removed]",
      "text/plain": [
       "<Figure size 432x288 with 1 Axes>"
      ]
     },
     "metadata": {
      "needs_background": "light"
     },
     "output_type": "display_data"
    }
   ],
   "source": [
    "plt.scatter(\"x\",\"y\",data = test)\n",
    "plt.plot(x_test, y_pred, color = 'red')\n",
    "plt.show()"
   ]
  },
  {
   "cell_type": "code",
   "execution_count": 44,
   "id": "0b5082c3",
   "metadata": {},
   "outputs": [],
   "source": [
    "from sklearn.metrics import mean_absolute_error, mean_squared_error, r2_score"
   ]
  },
  {
   "cell_type": "code",
   "execution_count": 45,
   "id": "807009c5",
   "metadata": {},
   "outputs": [
    {
     "data": {
      "text/plain": [
       "1.0825414638778359e-14"
      ]
     },
     "execution_count": 45,
     "metadata": {},
     "output_type": "execute_result"
    }
   ],
   "source": [
    "mean_absolute_error(y_test, y_pred)"
   ]
  },
  {
   "cell_type": "code",
   "execution_count": 46,
   "id": "ffd7fda9",
   "metadata": {},
   "outputs": [
    {
     "data": {
      "text/plain": [
       "2.2460644908678955e-28"
      ]
     },
     "execution_count": 46,
     "metadata": {},
     "output_type": "execute_result"
    }
   ],
   "source": [
    "mean_squared_error(y_test, y_pred)"
   ]
  },
  {
   "cell_type": "code",
   "execution_count": 47,
   "id": "ed627636",
   "metadata": {},
   "outputs": [
    {
     "data": {
      "text/plain": [
       "1.0"
      ]
     },
     "execution_count": 47,
     "metadata": {},
     "output_type": "execute_result"
    }
   ],
   "source": [
    "r2_score(y_test, y_pred)\n"
   ]
  },
  {
   "cell_type": "code",
   "execution_count": null,
   "id": "50024f75",
   "metadata": {},
   "outputs": [],
   "source": []
  },
  {
   "cell_type": "code",
   "execution_count": null,
   "id": "0b635227",
   "metadata": {},
   "outputs": [],
   "source": []
  },
  {
   "cell_type": "code",
   "execution_count": null,
   "id": "e4027f7b",
   "metadata": {},
   "outputs": [],
   "source": []
  },
  {
   "cell_type": "code",
   "execution_count": null,
   "id": "aaa008d4",
   "metadata": {},
   "outputs": [],
   "source": []
  },
  {
   "cell_type": "code",
   "execution_count": null,
   "id": "c8333343",
   "metadata": {},
   "outputs": [],
   "source": []
  },
  {
   "cell_type": "code",
   "execution_count": null,
   "id": "5c2df815",
   "metadata": {},
   "outputs": [],
   "source": []
  },
  {
   "cell_type": "code",
   "execution_count": null,
   "id": "eba774bc",
   "metadata": {},
   "outputs": [],
   "source": []
  }
 ],
 "metadata": {
  "kernelspec": {
   "display_name": "Python 3 (ipykernel)",
   "language": "python",
   "name": "python3"
  },
  "language_info": {
   "codemirror_mode": {
    "name": "ipython",
    "version": 3
   },
   "file_extension": ".py",
   "mimetype": "text/x-python",
   "name": "python",
   "nbconvert_exporter": "python",
   "pygments_lexer": "ipython3",
   "version": "3.9.12"
  }
 },
 "nbformat": 4,
 "nbformat_minor": 5
}
